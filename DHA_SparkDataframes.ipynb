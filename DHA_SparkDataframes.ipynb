{
  "nbformat": 4,
  "nbformat_minor": 0,
  "metadata": {
    "colab": {
      "provenance": []
    },
    "kernelspec": {
      "name": "python3",
      "display_name": "Python 3"
    },
    "language_info": {
      "name": "python"
    }
  },
  "cells": [
    {
      "cell_type": "markdown",
      "source": [
        "# Load data from kagglehub"
      ],
      "metadata": {
        "id": "EWUdXMnGmAky"
      }
    },
    {
      "cell_type": "code",
      "execution_count": 9,
      "metadata": {
        "id": "Io9omnRHkWfv"
      },
      "outputs": [],
      "source": [
        "import kagglehub"
      ]
    },
    {
      "cell_type": "code",
      "source": [
        "path = kagglehub.dataset_download(\"kamilpytlak/personal-key-indicators-of-heart-disease\")"
      ],
      "metadata": {
        "id": "xMY-c_bHkiEk"
      },
      "execution_count": 10,
      "outputs": []
    },
    {
      "cell_type": "markdown",
      "source": [
        "# Initiate Spark session"
      ],
      "metadata": {
        "id": "BVS7wG4-mEGv"
      }
    },
    {
      "cell_type": "code",
      "source": [
        "print(path)"
      ],
      "metadata": {
        "colab": {
          "base_uri": "https://localhost:8080/"
        },
        "id": "zTxhESS0mS2W",
        "outputId": "957f12b7-9ba9-4503-ce94-388dfa8948e6"
      },
      "execution_count": 11,
      "outputs": [
        {
          "output_type": "stream",
          "name": "stdout",
          "text": [
            "/kaggle/input/personal-key-indicators-of-heart-disease\n"
          ]
        }
      ]
    },
    {
      "cell_type": "code",
      "source": [
        "from pyspark.sql import SparkSession\n",
        "from pyspark.sql.functions import col, sum as _sum, when, round, count\n",
        "spark = SparkSession.builder \\\n",
        "    .appName(\"MySparkApp\") \\\n",
        "    .getOrCreate()\n",
        "import matplotlib.pyplot as plt\n",
        "from functools import reduce\n"
      ],
      "metadata": {
        "id": "3xgv6J5pmHgY"
      },
      "execution_count": 12,
      "outputs": []
    },
    {
      "cell_type": "code",
      "source": [
        "df = spark.read.csv(path+\"/2022/heart_2022_no_nans.csv\", header=True, inferSchema=True)"
      ],
      "metadata": {
        "id": "_3kwxzwxnani",
        "colab": {
          "base_uri": "https://localhost:8080/"
        },
        "outputId": "9737457e-8f64-4eb0-bec3-4e5d2a7cc224"
      },
      "execution_count": 13,
      "outputs": [
        {
          "output_type": "stream",
          "name": "stdout",
          "text": [
            "root\n",
            " |-- State: string (nullable = true)\n",
            " |-- Sex: string (nullable = true)\n",
            " |-- GeneralHealth: string (nullable = true)\n",
            " |-- PhysicalHealthDays: double (nullable = true)\n",
            " |-- MentalHealthDays: double (nullable = true)\n",
            " |-- LastCheckupTime: string (nullable = true)\n",
            " |-- PhysicalActivities: string (nullable = true)\n",
            " |-- SleepHours: double (nullable = true)\n",
            " |-- RemovedTeeth: string (nullable = true)\n",
            " |-- HadHeartAttack: string (nullable = true)\n",
            " |-- HadAngina: string (nullable = true)\n",
            " |-- HadStroke: string (nullable = true)\n",
            " |-- HadAsthma: string (nullable = true)\n",
            " |-- HadSkinCancer: string (nullable = true)\n",
            " |-- HadCOPD: string (nullable = true)\n",
            " |-- HadDepressiveDisorder: string (nullable = true)\n",
            " |-- HadKidneyDisease: string (nullable = true)\n",
            " |-- HadArthritis: string (nullable = true)\n",
            " |-- HadDiabetes: string (nullable = true)\n",
            " |-- DeafOrHardOfHearing: string (nullable = true)\n",
            " |-- BlindOrVisionDifficulty: string (nullable = true)\n",
            " |-- DifficultyConcentrating: string (nullable = true)\n",
            " |-- DifficultyWalking: string (nullable = true)\n",
            " |-- DifficultyDressingBathing: string (nullable = true)\n",
            " |-- DifficultyErrands: string (nullable = true)\n",
            " |-- SmokerStatus: string (nullable = true)\n",
            " |-- ECigaretteUsage: string (nullable = true)\n",
            " |-- ChestScan: string (nullable = true)\n",
            " |-- RaceEthnicityCategory: string (nullable = true)\n",
            " |-- AgeCategory: string (nullable = true)\n",
            " |-- HeightInMeters: double (nullable = true)\n",
            " |-- WeightInKilograms: double (nullable = true)\n",
            " |-- BMI: double (nullable = true)\n",
            " |-- AlcoholDrinkers: string (nullable = true)\n",
            " |-- HIVTesting: string (nullable = true)\n",
            " |-- FluVaxLast12: string (nullable = true)\n",
            " |-- PneumoVaxEver: string (nullable = true)\n",
            " |-- TetanusLast10Tdap: string (nullable = true)\n",
            " |-- HighRiskLastYear: string (nullable = true)\n",
            " |-- CovidPos: string (nullable = true)\n",
            "\n"
          ]
        }
      ]
    },
    {
      "cell_type": "markdown",
      "source": [
        "Προβολή των στηλών του αρχείου και των διακριτών τιμών της κάθε μιας"
      ],
      "metadata": {
        "id": "XkSBKRQXeqi1"
      }
    },
    {
      "cell_type": "code",
      "source": [
        "df.columns"
      ],
      "metadata": {
        "colab": {
          "base_uri": "https://localhost:8080/"
        },
        "id": "-bBhZqculpNh",
        "outputId": "50557103-b726-49a1-8e6c-c8b6f753dc73"
      },
      "execution_count": 14,
      "outputs": [
        {
          "output_type": "execute_result",
          "data": {
            "text/plain": [
              "['State',\n",
              " 'Sex',\n",
              " 'GeneralHealth',\n",
              " 'PhysicalHealthDays',\n",
              " 'MentalHealthDays',\n",
              " 'LastCheckupTime',\n",
              " 'PhysicalActivities',\n",
              " 'SleepHours',\n",
              " 'RemovedTeeth',\n",
              " 'HadHeartAttack',\n",
              " 'HadAngina',\n",
              " 'HadStroke',\n",
              " 'HadAsthma',\n",
              " 'HadSkinCancer',\n",
              " 'HadCOPD',\n",
              " 'HadDepressiveDisorder',\n",
              " 'HadKidneyDisease',\n",
              " 'HadArthritis',\n",
              " 'HadDiabetes',\n",
              " 'DeafOrHardOfHearing',\n",
              " 'BlindOrVisionDifficulty',\n",
              " 'DifficultyConcentrating',\n",
              " 'DifficultyWalking',\n",
              " 'DifficultyDressingBathing',\n",
              " 'DifficultyErrands',\n",
              " 'SmokerStatus',\n",
              " 'ECigaretteUsage',\n",
              " 'ChestScan',\n",
              " 'RaceEthnicityCategory',\n",
              " 'AgeCategory',\n",
              " 'HeightInMeters',\n",
              " 'WeightInKilograms',\n",
              " 'BMI',\n",
              " 'AlcoholDrinkers',\n",
              " 'HIVTesting',\n",
              " 'FluVaxLast12',\n",
              " 'PneumoVaxEver',\n",
              " 'TetanusLast10Tdap',\n",
              " 'HighRiskLastYear',\n",
              " 'CovidPos']"
            ]
          },
          "metadata": {},
          "execution_count": 14
        }
      ]
    },
    {
      "cell_type": "code",
      "source": [
        "for column in df.columns:\n",
        "    print(f\"Column: {column}\")\n",
        "    df.groupBy(column).count().orderBy(\"count\", ascending=False).show(truncate=False)\n"
      ],
      "metadata": {
        "colab": {
          "base_uri": "https://localhost:8080/"
        },
        "id": "xaxeCk_hoSYF",
        "outputId": "a1cb831a-6c41-4f49-f364-bf5d5f9eb535"
      },
      "execution_count": 15,
      "outputs": [
        {
          "output_type": "stream",
          "name": "stdout",
          "text": [
            "Column: State\n",
            "+--------------+-----+\n",
            "|State         |count|\n",
            "+--------------+-----+\n",
            "|Washington    |15000|\n",
            "|Maryland      |9165 |\n",
            "|Minnesota     |9161 |\n",
            "|Ohio          |8995 |\n",
            "|New York      |8923 |\n",
            "|Texas         |7408 |\n",
            "|Florida       |7315 |\n",
            "|Kansas        |6145 |\n",
            "|Wisconsin     |6126 |\n",
            "|Maine         |6013 |\n",
            "|Iowa          |5672 |\n",
            "|Hawaii        |5596 |\n",
            "|Virginia      |5565 |\n",
            "|Indiana       |5502 |\n",
            "|South Carolina|5471 |\n",
            "|Massachusetts |5465 |\n",
            "|Arizona       |5462 |\n",
            "|Utah          |5373 |\n",
            "|Michigan      |5370 |\n",
            "|Colorado      |5159 |\n",
            "+--------------+-----+\n",
            "only showing top 20 rows\n",
            "\n",
            "Column: Sex\n",
            "+------+------+\n",
            "|Sex   |count |\n",
            "+------+------+\n",
            "|Female|127811|\n",
            "|Male  |118211|\n",
            "+------+------+\n",
            "\n",
            "Column: GeneralHealth\n",
            "+-------------+-----+\n",
            "|GeneralHealth|count|\n",
            "+-------------+-----+\n",
            "|Very good    |86999|\n",
            "|Good         |77409|\n",
            "|Excellent    |41525|\n",
            "|Fair         |30659|\n",
            "|Poor         |9430 |\n",
            "+-------------+-----+\n",
            "\n",
            "Column: PhysicalHealthDays\n",
            "+------------------+------+\n",
            "|PhysicalHealthDays|count |\n",
            "+------------------+------+\n",
            "|0.0               |152802|\n",
            "|30.0              |17160 |\n",
            "|2.0               |14728 |\n",
            "|1.0               |10058 |\n",
            "|3.0               |9137  |\n",
            "|5.0               |8939  |\n",
            "|10.0              |6068  |\n",
            "|7.0               |5221  |\n",
            "|4.0               |4906  |\n",
            "|15.0              |4845  |\n",
            "|20.0              |2950  |\n",
            "|14.0              |2813  |\n",
            "|6.0               |1421  |\n",
            "|25.0              |1123  |\n",
            "|8.0               |961   |\n",
            "|12.0              |610   |\n",
            "|21.0              |584   |\n",
            "|28.0              |365   |\n",
            "|9.0               |211   |\n",
            "|29.0              |178   |\n",
            "+------------------+------+\n",
            "only showing top 20 rows\n",
            "\n",
            "Column: MentalHealthDays\n",
            "+----------------+------+\n",
            "|MentalHealthDays|count |\n",
            "+----------------+------+\n",
            "|0.0             |150454|\n",
            "|2.0             |13810 |\n",
            "|30.0            |13702 |\n",
            "|5.0             |11623 |\n",
            "|3.0             |8849  |\n",
            "|10.0            |8831  |\n",
            "|1.0             |8244  |\n",
            "|15.0            |8061  |\n",
            "|20.0            |4925  |\n",
            "|4.0             |4568  |\n",
            "|7.0             |4485  |\n",
            "|25.0            |1647  |\n",
            "|14.0            |1573  |\n",
            "|6.0             |1326  |\n",
            "|8.0             |973   |\n",
            "|12.0            |715   |\n",
            "|28.0            |484   |\n",
            "|21.0            |301   |\n",
            "|29.0            |261   |\n",
            "|18.0            |166   |\n",
            "+----------------+------+\n",
            "only showing top 20 rows\n",
            "\n",
            "Column: LastCheckupTime\n",
            "+-------------------------------------------------------+------+\n",
            "|LastCheckupTime                                        |count |\n",
            "+-------------------------------------------------------+------+\n",
            "|Within past year (anytime less than 12 months ago)     |198153|\n",
            "|Within past 2 years (1 year but less than 2 years ago) |23227 |\n",
            "|Within past 5 years (2 years but less than 5 years ago)|13744 |\n",
            "|5 or more years ago                                    |10898 |\n",
            "+-------------------------------------------------------+------+\n",
            "\n",
            "Column: PhysicalActivities\n",
            "+------------------+------+\n",
            "|PhysicalActivities|count |\n",
            "+------------------+------+\n",
            "|Yes               |191318|\n",
            "|No                |54704 |\n",
            "+------------------+------+\n",
            "\n",
            "Column: SleepHours\n",
            "+----------+-----+\n",
            "|SleepHours|count|\n",
            "+----------+-----+\n",
            "|7.0       |76447|\n",
            "|8.0       |69927|\n",
            "|6.0       |53981|\n",
            "|5.0       |16417|\n",
            "|9.0       |11859|\n",
            "|4.0       |6478 |\n",
            "|10.0      |5468 |\n",
            "|3.0       |1618 |\n",
            "|12.0      |1476 |\n",
            "|2.0       |740  |\n",
            "|1.0       |563  |\n",
            "|11.0      |339  |\n",
            "|16.0      |155  |\n",
            "|15.0      |154  |\n",
            "|14.0      |148  |\n",
            "|18.0      |83   |\n",
            "|13.0      |79   |\n",
            "|20.0      |50   |\n",
            "|24.0      |13   |\n",
            "|17.0      |11   |\n",
            "+----------+-----+\n",
            "only showing top 20 rows\n",
            "\n",
            "Column: RemovedTeeth\n",
            "+----------------------+------+\n",
            "|RemovedTeeth          |count |\n",
            "+----------------------+------+\n",
            "|None of them          |131592|\n",
            "|1 to 5                |74702 |\n",
            "|6 or more, but not all|25950 |\n",
            "|All                   |13778 |\n",
            "+----------------------+------+\n",
            "\n",
            "Column: HadHeartAttack\n",
            "+--------------+------+\n",
            "|HadHeartAttack|count |\n",
            "+--------------+------+\n",
            "|No            |232587|\n",
            "|Yes           |13435 |\n",
            "+--------------+------+\n",
            "\n",
            "Column: HadAngina\n",
            "+---------+------+\n",
            "|HadAngina|count |\n",
            "+---------+------+\n",
            "|No       |231069|\n",
            "|Yes      |14953 |\n",
            "+---------+------+\n",
            "\n",
            "Column: HadStroke\n",
            "+---------+------+\n",
            "|HadStroke|count |\n",
            "+---------+------+\n",
            "|No       |235910|\n",
            "|Yes      |10112 |\n",
            "+---------+------+\n",
            "\n",
            "Column: HadAsthma\n",
            "+---------+------+\n",
            "|HadAsthma|count |\n",
            "+---------+------+\n",
            "|No       |209493|\n",
            "|Yes      |36529 |\n",
            "+---------+------+\n",
            "\n",
            "Column: HadSkinCancer\n",
            "+-------------+------+\n",
            "|HadSkinCancer|count |\n",
            "+-------------+------+\n",
            "|No           |225001|\n",
            "|Yes          |21021 |\n",
            "+-------------+------+\n",
            "\n",
            "Column: HadCOPD\n",
            "+-------+------+\n",
            "|HadCOPD|count |\n",
            "+-------+------+\n",
            "|No     |227028|\n",
            "|Yes    |18994 |\n",
            "+-------+------+\n",
            "\n",
            "Column: HadDepressiveDisorder\n",
            "+---------------------+------+\n",
            "|HadDepressiveDisorder|count |\n",
            "+---------------------+------+\n",
            "|No                   |195402|\n",
            "|Yes                  |50620 |\n",
            "+---------------------+------+\n",
            "\n",
            "Column: HadKidneyDisease\n",
            "+----------------+------+\n",
            "|HadKidneyDisease|count |\n",
            "+----------------+------+\n",
            "|No              |234738|\n",
            "|Yes             |11284 |\n",
            "+----------------+------+\n",
            "\n",
            "Column: HadArthritis\n",
            "+------------+------+\n",
            "|HadArthritis|count |\n",
            "+------------+------+\n",
            "|No          |161139|\n",
            "|Yes         |84883 |\n",
            "+------------+------+\n",
            "\n",
            "Column: HadDiabetes\n",
            "+---------------------------------------+------+\n",
            "|HadDiabetes                            |count |\n",
            "+---------------------------------------+------+\n",
            "|No                                     |204834|\n",
            "|Yes                                    |33813 |\n",
            "|No, pre-diabetes or borderline diabetes|5392  |\n",
            "|Yes, but only during pregnancy (female)|1983  |\n",
            "+---------------------------------------+------+\n",
            "\n",
            "Column: DeafOrHardOfHearing\n",
            "+-------------------+------+\n",
            "|DeafOrHardOfHearing|count |\n",
            "+-------------------+------+\n",
            "|No                 |224990|\n",
            "|Yes                |21032 |\n",
            "+-------------------+------+\n",
            "\n",
            "Column: BlindOrVisionDifficulty\n",
            "+-----------------------+------+\n",
            "|BlindOrVisionDifficulty|count |\n",
            "+-----------------------+------+\n",
            "|No                     |233796|\n",
            "|Yes                    |12226 |\n",
            "+-----------------------+------+\n",
            "\n",
            "Column: DifficultyConcentrating\n",
            "+-----------------------+------+\n",
            "|DifficultyConcentrating|count |\n",
            "+-----------------------+------+\n",
            "|No                     |219802|\n",
            "|Yes                    |26220 |\n",
            "+-----------------------+------+\n",
            "\n",
            "Column: DifficultyWalking\n",
            "+-----------------+------+\n",
            "|DifficultyWalking|count |\n",
            "+-----------------+------+\n",
            "|No               |209952|\n",
            "|Yes              |36070 |\n",
            "+-----------------+------+\n",
            "\n",
            "Column: DifficultyDressingBathing\n",
            "+-------------------------+------+\n",
            "|DifficultyDressingBathing|count |\n",
            "+-------------------------+------+\n",
            "|No                       |237682|\n",
            "|Yes                      |8340  |\n",
            "+-------------------------+------+\n",
            "\n",
            "Column: DifficultyErrands\n",
            "+-----------------+------+\n",
            "|DifficultyErrands|count |\n",
            "+-----------------+------+\n",
            "|No               |229638|\n",
            "|Yes              |16384 |\n",
            "+-----------------+------+\n",
            "\n",
            "Column: SmokerStatus\n",
            "+-------------------------------------+------+\n",
            "|SmokerStatus                         |count |\n",
            "+-------------------------------------+------+\n",
            "|Never smoked                         |147737|\n",
            "|Former smoker                        |68527 |\n",
            "|Current smoker - now smokes every day|21659 |\n",
            "|Current smoker - now smokes some days|8099  |\n",
            "+-------------------------------------+------+\n",
            "\n",
            "Column: ECigaretteUsage\n",
            "+-----------------------------------------+------+\n",
            "|ECigaretteUsage                          |count |\n",
            "+-----------------------------------------+------+\n",
            "|Never used e-cigarettes in my entire life|190128|\n",
            "|Not at all (right now)                   |43281 |\n",
            "|Use them some days                       |6658  |\n",
            "|Use them every day                       |5955  |\n",
            "+-----------------------------------------+------+\n",
            "\n",
            "Column: ChestScan\n",
            "+---------+------+\n",
            "|ChestScan|count |\n",
            "+---------+------+\n",
            "|No       |141822|\n",
            "|Yes      |104200|\n",
            "+---------+------+\n",
            "\n",
            "Column: RaceEthnicityCategory\n",
            "+-----------------------------+------+\n",
            "|RaceEthnicityCategory        |count |\n",
            "+-----------------------------+------+\n",
            "|White only, Non-Hispanic     |186336|\n",
            "|Hispanic                     |22570 |\n",
            "|Black only, Non-Hispanic     |19330 |\n",
            "|Other race only, Non-Hispanic|12205 |\n",
            "|Multiracial, Non-Hispanic    |5581  |\n",
            "+-----------------------------+------+\n",
            "\n",
            "Column: AgeCategory\n",
            "+---------------+-----+\n",
            "|AgeCategory    |count|\n",
            "+---------------+-----+\n",
            "|Age 65 to 69   |28557|\n",
            "|Age 60 to 64   |26720|\n",
            "|Age 70 to 74   |25739|\n",
            "|Age 55 to 59   |22224|\n",
            "|Age 50 to 54   |19913|\n",
            "|Age 75 to 79   |18136|\n",
            "|Age 80 or older|17816|\n",
            "|Age 40 to 44   |16973|\n",
            "|Age 45 to 49   |16753|\n",
            "|Age 35 to 39   |15614|\n",
            "|Age 30 to 34   |13346|\n",
            "|Age 18 to 24   |13122|\n",
            "|Age 25 to 29   |11109|\n",
            "+---------------+-----+\n",
            "\n",
            "Column: HeightInMeters\n",
            "+--------------+-----+\n",
            "|HeightInMeters|count|\n",
            "+--------------+-----+\n",
            "|1.68          |21694|\n",
            "|1.63          |20835|\n",
            "|1.7           |20054|\n",
            "|1.78          |19540|\n",
            "|1.65          |18825|\n",
            "|1.73          |18504|\n",
            "|1.75          |17441|\n",
            "|1.83          |16936|\n",
            "|1.6           |16487|\n",
            "|1.57          |15534|\n",
            "|1.8           |15161|\n",
            "|1.85          |8636 |\n",
            "|1.55          |7944 |\n",
            "|1.52          |7557 |\n",
            "|1.88          |7232 |\n",
            "|1.91          |3979 |\n",
            "|1.93          |2573 |\n",
            "|1.5           |2496 |\n",
            "|1.96          |1093 |\n",
            "|1.47          |833  |\n",
            "+--------------+-----+\n",
            "only showing top 20 rows\n",
            "\n",
            "Column: WeightInKilograms\n",
            "+-----------------+-----+\n",
            "|WeightInKilograms|count|\n",
            "+-----------------+-----+\n",
            "|90.72            |13066|\n",
            "|81.65            |12018|\n",
            "|68.04            |10365|\n",
            "|72.57            |10350|\n",
            "|77.11            |9725 |\n",
            "|86.18            |8808 |\n",
            "|63.5             |7570 |\n",
            "|79.38            |7229 |\n",
            "|99.79            |6818 |\n",
            "|74.84            |6593 |\n",
            "|83.91            |6475 |\n",
            "|95.25            |6065 |\n",
            "|58.97            |5721 |\n",
            "|104.33           |5187 |\n",
            "|65.77            |5185 |\n",
            "|70.31            |5010 |\n",
            "|113.4            |4906 |\n",
            "|61.23            |4898 |\n",
            "|108.86           |4547 |\n",
            "|88.45            |4287 |\n",
            "+-----------------+-----+\n",
            "only showing top 20 rows\n",
            "\n",
            "Column: BMI\n",
            "+-----+-----+\n",
            "|BMI  |count|\n",
            "+-----+-----+\n",
            "|26.63|2727 |\n",
            "|27.46|2040 |\n",
            "|27.44|1964 |\n",
            "|24.41|1922 |\n",
            "|27.12|1893 |\n",
            "|25.1 |1650 |\n",
            "|32.28|1526 |\n",
            "|29.53|1453 |\n",
            "|28.7 |1432 |\n",
            "|25.84|1415 |\n",
            "|29.29|1396 |\n",
            "|25.09|1359 |\n",
            "|29.05|1307 |\n",
            "|24.21|1261 |\n",
            "|25.75|1253 |\n",
            "|28.34|1249 |\n",
            "|24.96|1219 |\n",
            "|27.37|1207 |\n",
            "|26.61|1198 |\n",
            "|25.82|1193 |\n",
            "+-----+-----+\n",
            "only showing top 20 rows\n",
            "\n",
            "Column: AlcoholDrinkers\n",
            "+---------------+------+\n",
            "|AlcoholDrinkers|count |\n",
            "+---------------+------+\n",
            "|Yes            |135307|\n",
            "|No             |110715|\n",
            "+---------------+------+\n",
            "\n",
            "Column: HIVTesting\n",
            "+----------+------+\n",
            "|HIVTesting|count |\n",
            "+----------+------+\n",
            "|No        |161520|\n",
            "|Yes       |84502 |\n",
            "+----------+------+\n",
            "\n",
            "Column: FluVaxLast12\n",
            "+------------+------+\n",
            "|FluVaxLast12|count |\n",
            "+------------+------+\n",
            "|Yes         |131196|\n",
            "|No          |114826|\n",
            "+------------+------+\n",
            "\n",
            "Column: PneumoVaxEver\n",
            "+-------------+------+\n",
            "|PneumoVaxEver|count |\n",
            "+-------------+------+\n",
            "|No           |146130|\n",
            "|Yes          |99892 |\n",
            "+-------------+------+\n",
            "\n",
            "Column: TetanusLast10Tdap\n",
            "+---------------------------------------------------------+-----+\n",
            "|TetanusLast10Tdap                                        |count|\n",
            "+---------------------------------------------------------+-----+\n",
            "|No, did not receive any tetanus shot in the past 10 years|81747|\n",
            "|Yes, received tetanus shot but not sure what type        |74119|\n",
            "|Yes, received Tdap                                       |70286|\n",
            "|Yes, received tetanus shot, but not Tdap                 |19870|\n",
            "+---------------------------------------------------------+-----+\n",
            "\n",
            "Column: HighRiskLastYear\n",
            "+----------------+------+\n",
            "|HighRiskLastYear|count |\n",
            "+----------------+------+\n",
            "|No              |235446|\n",
            "|Yes             |10576 |\n",
            "+----------------+------+\n",
            "\n",
            "Column: CovidPos\n",
            "+-------------------------------------------------------------+------+\n",
            "|CovidPos                                                     |count |\n",
            "+-------------------------------------------------------------+------+\n",
            "|No                                                           |167306|\n",
            "|Yes                                                          |70324 |\n",
            "|Tested positive using home test without a health professional|8392  |\n",
            "+-------------------------------------------------------------+------+\n",
            "\n"
          ]
        }
      ]
    },
    {
      "cell_type": "markdown",
      "source": [
        " Σύνδεση μεταξύ ωρών ύπνου και ιστορικού ανακοπής:\n",
        " - Καθώς οι απαντήσεις στην ερώτηση \"πόσες ώρες κοιμάστε\" μπορούν να είναι μέχρι 24, θα πρέπει να δούμε την κατανομή των απαντήσεων ώστε να σπάσουμε σε μπάντες το πόσες ώρες κοιμάται ο ερωτηθής. Η αρχική προσέγγιση στην οποία υπολογίζοταν ο μέσος όρος ωρών ύπνου για το δίτιμο ναι/όχι της στήλης HadHeartAttack βγαινει περίπου 7, δεν παίρνουμε σαφή απάντηση στο ερώτημα. Βλέποντας την κατανομή συνειδητοποιούμε ότι όντως, οι περισσότεροι κοιμούνται 7 εως 9 ώρες. Δεδομένου ότι το ιδανικό θεωρείται 8 ώρες ύπνου, και με βάση τις ακραίες τιμές στο άνω τμήμα της κατανομής (εως 24 ώρες!), σπάμε σε <7, 7-9,9-12 και >12, κυρίως λόγω πολλών απαντήσεων στο φάσμα 9-12, κάτι που δεν μας επιτρέπει να συγχωνεύσουμε τις 2 μπάντες 9-12 και >12 σε μια."
      ],
      "metadata": {
        "id": "rbCOnrkSwLwY"
      }
    },
    {
      "cell_type": "code",
      "source": [
        "# multivariate plot function\n",
        "def plotFunc(df, column: str):\n",
        "    # Count occurrences\n",
        "    dist_df = df.groupBy(column).count().orderBy(column)\n",
        "\n",
        "    # Convert to pandas\n",
        "    dist_pd = dist_df.toPandas()\n",
        "\n",
        "    # Plot\n",
        "    plt.figure(figsize=(10, 6))\n",
        "    plt.bar(dist_pd[column], dist_pd[\"count\"])\n",
        "    plt.xlabel(column)\n",
        "    plt.ylabel(\"Count\")\n",
        "    plt.title(f\"Distribution of {column}\")\n",
        "    plt.grid(axis='y', linestyle='--', alpha=0.7)\n",
        "    plt.xticks(rotation=45 if dist_pd[column].dtype == object else 0)\n",
        "    plt.tight_layout()\n",
        "    plt.show()\n",
        "\n"
      ],
      "metadata": {
        "id": "QocR1NF7urzR"
      },
      "execution_count": 16,
      "outputs": []
    },
    {
      "cell_type": "code",
      "source": [
        "# sleep hours distribution\n",
        "plotFunc(df, \"SleepHours\")"
      ],
      "metadata": {
        "colab": {
          "base_uri": "https://localhost:8080/",
          "height": 607
        },
        "id": "gyJGNs2c6jq2",
        "outputId": "d68abd7e-9873-4772-876a-c09df1e5d720"
      },
      "execution_count": 17,
      "outputs": [
        {
          "output_type": "display_data",
          "data": {
            "text/plain": [
              "<Figure size 1000x600 with 1 Axes>"
            ],
            "image/png": "[encoded data removed]"
          },
          "metadata": {}
        }
      ]
    },
    {
      "cell_type": "code",
      "source": [
        "df = df.withColumn(\n",
        "    \"sleep_band\",\n",
        "    when(col(\"SleepHours\") < 7, \"A.<7 hrs\")\n",
        "    .when((col(\"SleepHours\") >= 7) & (col(\"SleepHours\") < 9), \"B.7-9 hrs\")\n",
        "    .when((col(\"SleepHours\") >= 9) & (col(\"SleepHours\") < 12), \"C.9-12 hrs\")\n",
        "    .otherwise(\"D.>12 hrs\")\n",
        ")\n",
        "plotFunc(df, \"sleep_band\")"
      ],
      "metadata": {
        "id": "ALfJcRmPrzhG",
        "colab": {
          "base_uri": "https://localhost:8080/",
          "height": 607
        },
        "outputId": "556edeab-f3ef-4f26-bb8c-6e34419eddcf"
      },
      "execution_count": 18,
      "outputs": [
        {
          "output_type": "display_data",
          "data": {
            "text/plain": [
              "<Figure size 1000x600 with 1 Axes>"
            ],
            "image/png": "[encoded data removed]"
          },
          "metadata": {}
        }
      ]
    },
    {
      "cell_type": "code",
      "source": [
        "# Step 1: Group by sleep_band and HadHeartAttack\n",
        "grouped = df.groupBy(\"sleep_band\", \"HadHeartAttack\").count()\n",
        "\n",
        "# Step 2: Total count per sleep_band\n",
        "total_per_band = grouped.groupBy(\"sleep_band\") \\\n",
        "    .agg(_sum(\"count\").alias(\"total\"))\n",
        "\n",
        "# Step 3: Join and calculate percentage\n",
        "percent_df = grouped.join(total_per_band, on=\"sleep_band\") \\\n",
        "    .withColumn(\"percentage\", round((col(\"count\") / col(\"total\")) * 100, 2)) \\\n",
        "    .select(\"sleep_band\", \"HadHeartAttack\", \"percentage\")\n",
        "\n",
        "# Step 4: Pivot to get sleep_band columns with % values\n",
        "pivoted = percent_df.groupBy(\"HadHeartAttack\") \\\n",
        "    .pivot(\"sleep_band\") \\\n",
        "    .agg(_sum(\"percentage\")) \\\n",
        "    .fillna(0)\n",
        "\n",
        "# Step 5: Add total row (each column should sum to 100%)\n",
        "band_columns = [c for c in pivoted.columns if c != \"HadHeartAttack\"]\n",
        "\n",
        "total_row = pivoted.selectExpr(\n",
        "    \"'Total' as HadHeartAttack\",\n",
        "    *[f\"round(sum(`{c}`), 2) as `{c}`\" for c in band_columns]\n",
        ")\n",
        "\n",
        "final_result = pivoted.unionByName(total_row)\n",
        "\n",
        "# Display final pivoted percentage table\n",
        "final_result.show()\n"
      ],
      "metadata": {
        "colab": {
          "base_uri": "https://localhost:8080/"
        },
        "id": "YiMBI4o7uLx5",
        "outputId": "33af528e-52cf-4218-9da5-1672aa175c45"
      },
      "execution_count": 19,
      "outputs": [
        {
          "output_type": "stream",
          "name": "stdout",
          "text": [
            "+--------------+--------+---------+----------+---------+\n",
            "|HadHeartAttack|A.<7 hrs|B.7-9 hrs|C.9-12 hrs|D.>12 hrs|\n",
            "+--------------+--------+---------+----------+---------+\n",
            "|            No|   93.77|    95.39|     91.92|    86.41|\n",
            "|           Yes|    6.23|     4.61|      8.08|    13.59|\n",
            "|         Total|   100.0|    100.0|     100.0|    100.0|\n",
            "+--------------+--------+---------+----------+---------+\n",
            "\n"
          ]
        }
      ]
    },
    {
      "cell_type": "markdown",
      "source": [
        "από το πινακάκι, προκύπτει ένα αυξημένο ποσοστό ανθρώπων με ιστορικό ανακοπής στην μπάντα >12. Από δείγματα που κοιμούνται πάνω από 12 ώρες την ημέρα, το ~13% έχει ιστορικό ανακοπής, με το χαμηλότερο ποσοστό να βρίσκεται στην μπάντα 7-9."
      ],
      "metadata": {
        "id": "wnPMMkVGx1Qz"
      }
    },
    {
      "cell_type": "code",
      "source": [
        "#bin BMIs\n",
        "df= df.withColumn(\n",
        "    \"BMI_band\",\n",
        "    when(col(\"BMI\") < 18.5 ,\"A. Underweight\")\n",
        "    .when((col(\"BMI\") >= 18.5) & (col(\"BMI\") <= 24.9), \"B.Healthy\")\n",
        "    .when((col(\"BMI\") >= 25) & (col(\"BMI\") <= 29.9), \"C.Overweight\")\n",
        "    .when((col(\"BMI\") >= 30) & (col(\"BMI\") <= 39.9), \"D.Obese\")\n",
        "    .otherwise(\"E.Severely Obese\")\n",
        ")\n"
      ],
      "metadata": {
        "id": "taSN39mw4Yhb"
      },
      "execution_count": 20,
      "outputs": []
    },
    {
      "cell_type": "code",
      "source": [
        "# Step 1: Group by BMI_band and HadHeartAttack\n",
        "bmi_group = df.groupBy(\"BMI_band\", \"HadHeartAttack\").count()\n",
        "\n",
        "# Step 2: Total count per BMI_band\n",
        "bmi_totals = bmi_group.groupBy(\"BMI_band\") \\\n",
        "    .agg(_sum(\"count\").alias(\"total\"))\n",
        "\n",
        "# Step 3: Join totals and calculate % within each BMI_band\n",
        "bmi_percent = bmi_group.join(bmi_totals, on=\"BMI_band\") \\\n",
        "    .withColumn(\"percentage\", round((col(\"count\") / col(\"total\")) * 100, 2)) \\\n",
        "    .select(\"BMI_band\", \"HadHeartAttack\", \"percentage\")\n",
        "\n",
        "# Step 4: Pivot to make columns for 'Yes' and 'No'\n",
        "pivoted_bmi = bmi_percent.groupBy(\"BMI_band\") \\\n",
        "    .pivot(\"HadHeartAttack\") \\\n",
        "    .agg(_sum(\"percentage\")) \\\n",
        "    .fillna(0) \\\n",
        "    .orderBy(\"BMI_band\")\n",
        "\n",
        "# Step 5: Optional: Add 'Total' column to confirm row-wise 100%\n",
        "pivoted_bmi = pivoted_bmi.withColumn(\n",
        "    \"Total\", round(sum([col(c) for c in pivoted_bmi.columns if c != \"BMI_band\"]), 2)\n",
        ")\n",
        "\n",
        "# Display final result\n",
        "print(\"History of heart attack per BMI band\")\n",
        "pivoted_bmi.show()\n",
        "\n",
        "#same analysis, column-wise\n",
        "heartAttack_grp = df.groupBy(\"HadHeartAttack\", \"BMI_band\").count()\n",
        "heartAttack_total = heartAttack_grp.groupBy(\"HadHeartAttack\").agg(_sum(\"count\").alias(\"total\"))\n",
        "\n",
        "heartAttack_percent = heartAttack_grp.join(heartAttack_total, on=\"HadHeartAttack\") \\\n",
        "    .withColumn(\"percentage\", round((col(\"count\") / col(\"total\")) * 100, 2)) \\\n",
        "    .select(\"HadHeartAttack\", \"BMI_band\", \"percentage\") \\\n",
        "    .orderBy(\"HadHeartAttack\", \"BMI_band\")\n",
        "\n",
        "#Pivot\n",
        "pivoted_heartAttack = heartAttack_percent.groupBy(\"BMI_band\")\\\n",
        "    .pivot(\"HadHeartAttack\")\\\n",
        "    .agg(_sum(\"percentage\"))\\\n",
        "    .fillna(0)\n",
        "\n",
        "#Add total row (each column should sum to 100%)\n",
        "band_columns = [c for c in pivoted_heartAttack.columns if c != \"BMI_band\"]\n",
        "\n",
        "total_row = pivoted_heartAttack.selectExpr(\n",
        "    \"'Total' as BMI_band\",  # Rename HadHeartAttack to BMI_band\n",
        "    *[f\"round(sum(`{c}`), 2) as `{c}`\" for c in band_columns]\n",
        ")\n",
        "\n",
        "final_heartAttack_result = pivoted_heartAttack.unionByName(total_row)\n",
        "\n",
        "# Display final pivoted percentage table\n",
        "# sort by BMI_band name\n",
        "# Final table\n",
        "final_heartAttack_result = pivoted_heartAttack.unionByName(total_row).orderBy(\"BMI_band\")\n",
        "print(\"Distribution of heart attack cases by BMI band\")\n",
        "final_heartAttack_result.show()"
      ],
      "metadata": {
        "colab": {
          "base_uri": "https://localhost:8080/"
        },
        "id": "Wu5XRxFGMRcM",
        "outputId": "de8df393-0e8d-457c-cbb1-69f254067b5b"
      },
      "execution_count": 22,
      "outputs": [
        {
          "output_type": "stream",
          "name": "stdout",
          "text": [
            "History of heart attack per BMI band\n",
            "+----------------+-----+----+-----+\n",
            "|        BMI_band|   No| Yes|Total|\n",
            "+----------------+-----+----+-----+\n",
            "|  A. Underweight|94.65|5.35|100.0|\n",
            "|       B.Healthy|95.81|4.19|100.0|\n",
            "|    C.Overweight|94.34|5.66|100.0|\n",
            "|         D.Obese| 93.6| 6.4|100.0|\n",
            "|E.Severely Obese|94.26|5.74|100.0|\n",
            "+----------------+-----+----+-----+\n",
            "\n",
            "Distribution of heart attack cases by BMI band\n",
            "+----------------+-----+-----+\n",
            "|        BMI_band|   No|  Yes|\n",
            "+----------------+-----+-----+\n",
            "|  A. Underweight| 1.53|  1.5|\n",
            "|       B.Healthy|28.34|21.45|\n",
            "|    C.Overweight|34.85|36.23|\n",
            "|         D.Obese|28.11|33.26|\n",
            "|E.Severely Obese| 7.17| 7.56|\n",
            "|           Total|100.0|100.0|\n",
            "+----------------+-----+-----+\n",
            "\n"
          ]
        }
      ]
    },
    {
      "cell_type": "code",
      "source": [
        "plotFunc(df, \"BMI_band\")"
      ],
      "metadata": {
        "colab": {
          "base_uri": "https://localhost:8080/",
          "height": 607
        },
        "id": "ZiMg1xqR7BkX",
        "outputId": "9025bb80-2098-475d-e1c8-823ecd141a1d"
      },
      "execution_count": 23,
      "outputs": [
        {
          "output_type": "display_data",
          "data": {
            "text/plain": [
              "<Figure size 1000x600 with 1 Axes>"
            ],
            "image/png": "[encoded data removed]"
          },
          "metadata": {}
        }
      ]
    },
    {
      "cell_type": "code",
      "source": [
        "smoking_grp = df.groupBy(\"SmokerStatus\", \"HadHeartAttack\").count()\n",
        "smoking_total = smoking_grp.groupBy(\"SmokerStatus\").agg(_sum(\"count\").alias(\"total\"))\n",
        "\n",
        "smoking_percent = smoking_grp.join(smoking_total, on=\"SmokerStatus\") \\\n",
        "    .withColumn(\"percentage\", round((col(\"count\") / col(\"total\")) * 100, 2)) \\\n",
        "    .select(\"SmokerStatus\", \"HadHeartAttack\", \"percentage\") \\\n",
        "    .orderBy(\"SmokerStatus\", \"HadHeartAttack\")\n",
        "\n",
        "# Pivot\n",
        "pivoted_smoking = smoking_percent.groupBy(\"HadHeartAttack\") \\\n",
        "    .pivot(\"SmokerStatus\") \\\n",
        "    .agg(_sum(\"percentage\")) \\\n",
        "    .fillna(0)\n",
        "\n",
        "# Add total row\n",
        "smoking_cols = [c for c in pivoted_smoking.columns if c != \"HadHeartAttack\"]\n",
        "smoking_total_row = pivoted_smoking.selectExpr(\n",
        "    \"'Total' as HadHeartAttack\", *[f\"round(sum(`{c}`), 2) as `{c}`\" for c in smoking_cols]\n",
        ")\n",
        "smoking_final = pivoted_smoking.unionByName(smoking_total_row)\n",
        "smoking_final.show()"
      ],
      "metadata": {
        "colab": {
          "base_uri": "https://localhost:8080/"
        },
        "id": "MbHKjjgb8JLu",
        "outputId": "ddd02489-bee9-440d-a607-12f3f129522c"
      },
      "execution_count": 24,
      "outputs": [
        {
          "output_type": "stream",
          "name": "stdout",
          "text": [
            "+--------------+-------------------------------------+-------------------------------------+-------------+------------+\n",
            "|HadHeartAttack|Current smoker - now smokes every day|Current smoker - now smokes some days|Former smoker|Never smoked|\n",
            "+--------------+-------------------------------------+-------------------------------------+-------------+------------+\n",
            "|            No|                                91.68|                                93.17|        91.81|        96.3|\n",
            "|           Yes|                                 8.32|                                 6.83|         8.19|         3.7|\n",
            "|         Total|                                100.0|                                100.0|        100.0|       100.0|\n",
            "+--------------+-------------------------------------+-------------------------------------+-------------+------------+\n",
            "\n"
          ]
        }
      ]
    },
    {
      "cell_type": "code",
      "source": [
        "plotFunc(df, \"MentalHealthDays\")"
      ],
      "metadata": {
        "colab": {
          "base_uri": "https://localhost:8080/",
          "height": 607
        },
        "id": "STWYxiCkUL7J",
        "outputId": "5e6510e5-1e3a-45e2-9c5b-3c4fc4406dd7"
      },
      "execution_count": 25,
      "outputs": [
        {
          "output_type": "display_data",
          "data": {
            "text/plain": [
              "<Figure size 1000x600 with 1 Axes>"
            ],
            "image/png": "[encoded data removed]"
          },
          "metadata": {}
        }
      ]
    },
    {
      "cell_type": "code",
      "source": [
        "# Question 8: Mental health days vs. heart disease\n",
        "df_mental = df.withColumn(\n",
        "    \"MentalHealthBand\",\n",
        "    when(col(\"MentalHealthDays\") == 0, \"A.0 days\")\n",
        "    .when((col(\"MentalHealthDays\") > 0) & (col(\"MentalHealthDays\") <= 7), \"B.1–7 days\")\n",
        "    .when((col(\"MentalHealthDays\") > 7) & (col(\"MentalHealthDays\") <= 14), \"C.8–14 days\")\n",
        "    .otherwise(\"D.15–30 days\")\n",
        ")\n",
        "\n",
        "mental_group = df_mental.groupBy(\"MentalHealthBand\", \"HadHeartAttack\").count()\n",
        "mental_total = mental_group.groupBy(\"MentalHealthBand\").agg(_sum(\"count\").alias(\"total\"))\n",
        "\n",
        "mental_percent = mental_group.join(mental_total, on=\"MentalHealthBand\") \\\n",
        "    .withColumn(\"percentage\", round((col(\"count\") / col(\"total\")) * 100, 2)) \\\n",
        "    .select(\"MentalHealthBand\", \"HadHeartAttack\", \"percentage\")\n",
        "\n",
        "pivot_mental = mental_percent.groupBy(\"HadHeartAttack\").pivot(\"MentalHealthBand\").agg(_sum(\"percentage\")).fillna(0)\n",
        "mental_cols = [c for c in pivot_mental.columns if c != \"HadHeartAttack\"]\n",
        "mental_total_row = pivot_mental.selectExpr(\n",
        "    \"'Total' as HadHeartAttack\",\n",
        "    *[f\"round(sum(`{c}`), 2) as `{c}`\" for c in mental_cols]\n",
        ")\n",
        "final_mental_result = pivot_mental.unionByName(mental_total_row)\n",
        "final_mental_result.show()"
      ],
      "metadata": {
        "colab": {
          "base_uri": "https://localhost:8080/"
        },
        "id": "j8VSvoWBIxpB",
        "outputId": "d3950e2f-d5f9-48b8-eaab-a1b26af4f324"
      },
      "execution_count": 26,
      "outputs": [
        {
          "output_type": "stream",
          "name": "stdout",
          "text": [
            "+--------------+--------+----------+-----------+------------+\n",
            "|HadHeartAttack|A.0 days|B.1–7 days|C.8–14 days|D.15–30 days|\n",
            "+--------------+--------+----------+-----------+------------+\n",
            "|            No|   94.28|     96.15|      95.12|       92.78|\n",
            "|           Yes|    5.72|      3.85|       4.88|        7.22|\n",
            "|         Total|   100.0|     100.0|      100.0|       100.0|\n",
            "+--------------+--------+----------+-----------+------------+\n",
            "\n"
          ]
        }
      ]
    },
    {
      "cell_type": "code",
      "source": [
        "# Question 8: Mental health days vs. heart disease\n",
        "df_mental = df.withColumn(\n",
        "    \"MentalHealthBand\",\n",
        "    when(col(\"MentalHealthDays\") == 0, \"A.0 days\")\n",
        "    .when((col(\"MentalHealthDays\") > 0) & (col(\"MentalHealthDays\") <= 7), \"B.1–7 days\")\n",
        "    .when((col(\"MentalHealthDays\") > 7) & (col(\"MentalHealthDays\") <= 14), \"C.8–14 days\")\n",
        "    .otherwise(\"D.15–30 days\")\n",
        ")\n",
        "\n",
        "mental_group = df_mental.groupBy(\"MentalHealthBand\", \"HadDepressiveDisorder\").count()\n",
        "mental_total = mental_group.groupBy(\"MentalHealthBand\").agg(_sum(\"count\").alias(\"total\"))\n",
        "\n",
        "mental_percent = mental_group.join(mental_total, on=\"MentalHealthBand\") \\\n",
        "    .withColumn(\"percentage\", round((col(\"count\") / col(\"total\")) * 100, 2)) \\\n",
        "    .select(\"MentalHealthBand\", \"HadDepressiveDisorder\", \"percentage\")\n",
        "\n",
        "pivot_mental = mental_percent.groupBy(\"HadDepressiveDisorder\").pivot(\"MentalHealthBand\").agg(_sum(\"percentage\")).fillna(0)\n",
        "mental_cols = [c for c in pivot_mental.columns if c != \"HadDepressiveDisorder\"]\n",
        "mental_total_row = pivot_mental.selectExpr(\n",
        "    \"'Total' as HadDepressiveDisorder\",\n",
        "    *[f\"round(sum(`{c}`), 2) as `{c}`\" for c in mental_cols]\n",
        ")\n",
        "final_mental_result = pivot_mental.unionByName(mental_total_row)\n",
        "final_mental_result.show()"
      ],
      "metadata": {
        "colab": {
          "base_uri": "https://localhost:8080/"
        },
        "outputId": "9f27fbce-0021-4ffd-f24f-faf75537f84e",
        "id": "nmvnKCD8VzIP"
      },
      "execution_count": 27,
      "outputs": [
        {
          "output_type": "stream",
          "name": "stdout",
          "text": [
            "+---------------------+--------+----------+-----------+------------+\n",
            "|HadDepressiveDisorder|A.0 days|B.1–7 days|C.8–14 days|D.15–30 days|\n",
            "+---------------------+--------+----------+-----------+------------+\n",
            "|                   No|   91.86|     72.37|      55.64|       39.69|\n",
            "|                  Yes|    8.14|     27.63|      44.36|       60.31|\n",
            "|                Total|   100.0|     100.0|      100.0|       100.0|\n",
            "+---------------------+--------+----------+-----------+------------+\n",
            "\n"
          ]
        }
      ]
    },
    {
      "cell_type": "code",
      "source": [
        "#of those who reported having depressive disorder and have taken over 8 mental health days"
      ],
      "metadata": {
        "id": "Gom_IPD_WIzo"
      },
      "execution_count": 28,
      "outputs": []
    },
    {
      "cell_type": "code",
      "source": [
        "# Question 8: Mental health days vs. general health\n",
        "# Recreate the df_banded with sleep_band as it was overwritten\n",
        "df_with_sleep_band = df.withColumn(\n",
        "    \"sleep_band\",\n",
        "    when(col(\"SleepHours\") < 7, \"A.<7 hrs\")\n",
        "    .when((col(\"SleepHours\") >= 7) & (col(\"SleepHours\") < 9), \"B.7-9 hrs\")\n",
        "    .when((col(\"SleepHours\") >= 9) & (col(\"SleepHours\") < 12), \"C.9-12 hrs\")\n",
        "    .otherwise(\"D.>12 hrs\")\n",
        ")\n",
        "# Group by GeneralHealth and sleep_band\n",
        "health_group = df_with_sleep_band.groupBy(\"GeneralHealth\", \"sleep_band\").count()\n",
        "\n",
        "# Compute total per GeneralHealth category\n",
        "health_total = health_group.groupBy(\"GeneralHealth\").agg(_sum(\"count\").alias(\"total\"))\n",
        "\n",
        "# Calculate percentages within each GeneralHealth group\n",
        "health_percent = health_group.join(health_total, on=\"GeneralHealth\") \\\n",
        "    .withColumn(\"percentage\", round((col(\"count\") / col(\"total\")) * 100, 2)) \\\n",
        "    .select(\"GeneralHealth\", \"sleep_band\", \"percentage\")\n",
        "\n",
        "# Pivot: rows = sleep_band, columns = GeneralHealth\n",
        "pivot_rotated = health_percent.groupBy(\"sleep_band\").pivot(\"GeneralHealth\").agg(_sum(\"percentage\")).fillna(0)\n",
        "\n",
        "# Add total row\n",
        "health_cols = [c for c in pivot_rotated.columns if c != \"sleep_band\"]\n",
        "rotated_total_row = pivot_rotated.selectExpr(\n",
        "    \"'Total' as sleep_band\",\n",
        "    *[f\"round(sum(`{c}`), 2) as `{c}`\" for c in health_cols]\n",
        ")\n",
        "\n",
        "final_rotated_result = pivot_rotated.unionByName(rotated_total_row).orderBy(\"sleep_band\")\n",
        "\n",
        "# Show rotated pivot\n",
        "final_rotated_result.show()\n"
      ],
      "metadata": {
        "colab": {
          "base_uri": "https://localhost:8080/"
        },
        "id": "ClTaDTe1I67H",
        "outputId": "efc303de-550a-4edb-86e3-c786f61ec690"
      },
      "execution_count": 29,
      "outputs": [
        {
          "output_type": "stream",
          "name": "stdout",
          "text": [
            "+----------+---------+-----+-----+-----+---------+\n",
            "|sleep_band|Excellent| Fair| Good| Poor|Very good|\n",
            "+----------+---------+-----+-----+-----+---------+\n",
            "|  A.<7 hrs|    25.03| 43.5|34.83| 50.1|    28.02|\n",
            "| B.7-9 hrs|    67.85|45.22|57.21|34.27|     65.3|\n",
            "|C.9-12 hrs|     6.63| 9.31|  7.2|11.08|     6.26|\n",
            "| D.>12 hrs|     0.48| 1.97| 0.76| 4.55|     0.42|\n",
            "|     Total|    99.99|100.0|100.0|100.0|    100.0|\n",
            "+----------+---------+-----+-----+-----+---------+\n",
            "\n"
          ]
        }
      ]
    },
    {
      "cell_type": "code",
      "source": [
        "cardio_cols = [\"HadHeartAttack\", \"HadAngina\", \"HadStroke\"]\n",
        "cardio_tables = []\n",
        "\n",
        "for col_name in cardio_cols:\n",
        "    # Group by AgeCategory and condition\n",
        "    group = df.groupBy(\"AgeCategory\", col_name).count()\n",
        "\n",
        "    # Total per condition value (Yes/No)\n",
        "    total = group.groupBy(col_name).agg(_sum(\"count\").alias(\"total\"))\n",
        "\n",
        "    # Percentage per condition value\n",
        "    percent = group.join(total, on=col_name) \\\n",
        "        .withColumn(\"percentage\", round((col(\"count\") / col(\"total\")) * 100, 2)) \\\n",
        "        .filter(col(col_name) == \"Yes\") \\\n",
        "        .select(\"AgeCategory\", \"percentage\") \\\n",
        "        .withColumnRenamed(\"percentage\", col_name)\n",
        "\n",
        "    cardio_tables.append(percent)\n",
        "\n",
        "# Join all percentage columns on AgeCategory\n",
        "from functools import reduce\n",
        "from pyspark.sql import DataFrame\n",
        "\n",
        "final_cardio = reduce(\n",
        "    lambda df1, df2: df1.join(df2, on=\"AgeCategory\", how=\"outer\"),\n",
        "    cardio_tables\n",
        ").fillna(0)\n",
        "\n",
        "# Add total row (column-wise sum of percentages)\n",
        "cardio_condition_cols = [c for c in final_cardio.columns if c != \"AgeCategory\"]\n",
        "total_row = final_cardio.selectExpr(\n",
        "    \"'Total' as AgeCategory\",\n",
        "    *[f\"round(sum(`{c}`), 2) as `{c}`\" for c in cardio_condition_cols]\n",
        ")\n",
        "\n",
        "final_cardio_result = final_cardio.unionByName(total_row)\n",
        "\n",
        "# Show result\n",
        "final_cardio_result.show()\n"
      ],
      "metadata": {
        "colab": {
          "base_uri": "https://localhost:8080/"
        },
        "id": "1frAOkelMhxU",
        "outputId": "7141eee7-df96-4733-dfe9-1781f1a78fa8"
      },
      "execution_count": 30,
      "outputs": [
        {
          "output_type": "stream",
          "name": "stdout",
          "text": [
            "+---------------+--------------+---------+---------+\n",
            "|    AgeCategory|HadHeartAttack|HadAngina|HadStroke|\n",
            "+---------------+--------------+---------+---------+\n",
            "|   Age 18 to 24|          0.37|     0.33|      0.5|\n",
            "|   Age 25 to 29|          0.35|     0.38|      0.6|\n",
            "|   Age 30 to 34|          0.67|     0.48|     1.04|\n",
            "|   Age 35 to 39|          1.16|      0.8|     1.78|\n",
            "|   Age 40 to 44|           1.7|     1.29|     2.51|\n",
            "|   Age 45 to 49|          3.13|     2.33|     3.71|\n",
            "|   Age 50 to 54|          5.23|     4.26|      6.2|\n",
            "|   Age 55 to 59|          8.28|     7.14|     8.62|\n",
            "|   Age 60 to 64|         11.72|    11.32|    12.45|\n",
            "|   Age 65 to 69|         16.04|    16.31|     14.9|\n",
            "|   Age 70 to 74|         17.92|    19.03|    16.44|\n",
            "|   Age 75 to 79|         15.37|    16.89|    13.79|\n",
            "|Age 80 or older|         18.06|    19.43|    17.45|\n",
            "|          Total|         100.0|    99.99|    99.99|\n",
            "+---------------+--------------+---------+---------+\n",
            "\n"
          ]
        }
      ]
    },
    {
      "cell_type": "code",
      "source": [
        "# Step 1: Filter people with Angina\n",
        "angina_df = df.filter(col(\"HadAngina\") == \"Yes\")\n",
        "angina_df = angina_df.withColumn(\n",
        "    \"sleep_band\",\n",
        "    when(col(\"SleepHours\") < 7, \"A.<7 hrs\")\n",
        "    .when((col(\"SleepHours\") >= 7) & (col(\"SleepHours\") < 9), \"B.7-9 hrs\")\n",
        "    .when((col(\"SleepHours\") >= 9) & (col(\"SleepHours\") < 12), \"C.9-12 hrs\")\n",
        "    .otherwise(\"D.>12 hrs\")\n",
        ")\n",
        "# Group by HadDepressiveDisorder and Sex\n",
        "health_group = angina_df.groupBy(\"HadDepressiveDisorder\", \"Sex\").count()\n",
        "\n",
        "# Compute total per HadDepressiveDisorder category\n",
        "health_total = health_group.groupBy(\"HadDepressiveDisorder\").agg(_sum(\"count\").alias(\"total\"))\n",
        "\n",
        "# Calculate percentages within each HadDepressiveDisorder group\n",
        "health_percent = health_group.join(health_total, on=\"HadDepressiveDisorder\") \\\n",
        "    .withColumn(\"percentage\", round((col(\"count\") / col(\"total\")) * 100, 2)) \\\n",
        "    .select(\"HadDepressiveDisorder\", \"Sex\", \"percentage\")\n",
        "\n",
        "# Pivot: rows = Sex, columns = HadDepressiveDisorder\n",
        "pivot_rotated = health_percent.groupBy(\"Sex\").pivot(\"HadDepressiveDisorder\").agg(_sum(\"percentage\")).fillna(0)\n",
        "\n",
        "# Add total row\n",
        "health_cols = [c for c in pivot_rotated.columns if c not in [\"Sex\", \"HadDepressiveDisorder\"]]\n",
        "\n",
        "rotated_total_row = pivot_rotated.selectExpr(\n",
        "    \"'Total' as Sex\",\n",
        "    *[f\"round(sum(`{c}`), 2) as `{c}`\" for c in health_cols]\n",
        ")\n",
        "\n",
        "final_rotated_result = pivot_rotated.unionByName(rotated_total_row).orderBy(\"Sex\")\n",
        "\n",
        "# Show rotated pivot\n",
        "final_rotated_result.show()\n",
        "\n",
        "from pyspark.sql.functions import col, round, sum as _sum\n",
        "\n",
        "# Step 1: Filter people with Angina\n",
        "angina_df = df.filter(col(\"HadAngina\") == \"No\")\n",
        "angina_df = angina_df.withColumn(\n",
        "    \"sleep_band\",\n",
        "    when(col(\"SleepHours\") < 7, \"A.<7 hrs\")\n",
        "    .when((col(\"SleepHours\") >= 7) & (col(\"SleepHours\") < 9), \"B.7-9 hrs\")\n",
        "    .when((col(\"SleepHours\") >= 9) & (col(\"SleepHours\") < 12), \"C.9-12 hrs\")\n",
        "    .otherwise(\"D.>12 hrs\")\n",
        ")\n",
        "# Group by HadDepressiveDisorder and Sex\n",
        "health_group = angina_df.groupBy(\"HadDepressiveDisorder\", \"Sex\").count()\n",
        "\n",
        "# Compute total per HadDepressiveDisorder category\n",
        "health_total = health_group.groupBy(\"HadDepressiveDisorder\").agg(_sum(\"count\").alias(\"total\"))\n",
        "\n",
        "# Calculate percentages within each HadDepressiveDisorder group\n",
        "health_percent = health_group.join(health_total, on=\"HadDepressiveDisorder\") \\\n",
        "    .withColumn(\"percentage\", round((col(\"count\") / col(\"total\")) * 100, 2)) \\\n",
        "    .select(\"HadDepressiveDisorder\", \"Sex\", \"percentage\")\n",
        "\n",
        "# Pivot: rows = Sex, columns = HadDepressiveDisorder\n",
        "pivot_rotated = health_percent.groupBy(\"Sex\").pivot(\"HadDepressiveDisorder\").agg(_sum(\"percentage\")).fillna(0)\n",
        "\n",
        "# Add total row\n",
        "health_cols = [c for c in pivot_rotated.columns if c not in [\"Sex\", \"HadDepressiveDisorder\"]]\n",
        "\n",
        "rotated_total_row = pivot_rotated.selectExpr(\n",
        "    \"'Total' as Sex\",\n",
        "    *[f\"round(sum(`{c}`), 2) as `{c}`\" for c in health_cols]\n",
        ")\n",
        "\n",
        "final_rotated_result = pivot_rotated.unionByName(rotated_total_row).orderBy(\"Sex\")\n",
        "\n",
        "# Show rotated pivot\n",
        "final_rotated_result.show()"
      ],
      "metadata": {
        "colab": {
          "base_uri": "https://localhost:8080/"
        },
        "id": "V1dFVubHNqi0",
        "outputId": "f142e96e-d177-4659-bd40-f1cc6b7b5800"
      },
      "execution_count": 31,
      "outputs": [
        {
          "output_type": "stream",
          "name": "stdout",
          "text": [
            "+------+-----+-----+\n",
            "|   Sex|   No|  Yes|\n",
            "+------+-----+-----+\n",
            "|Female|34.19|53.62|\n",
            "|  Male|65.81|46.38|\n",
            "| Total|100.0|100.0|\n",
            "+------+-----+-----+\n",
            "\n",
            "+------+-----+-----+\n",
            "|   Sex|   No|  Yes|\n",
            "+------+-----+-----+\n",
            "|Female|49.17|66.99|\n",
            "|  Male|50.83|33.01|\n",
            "| Total|100.0|100.0|\n",
            "+------+-----+-----+\n",
            "\n"
          ]
        }
      ]
    },
    {
      "cell_type": "code",
      "source": [
        "# Step 1: Group by State and HadDepressiveDisorder\n",
        "states_group = df.groupBy(\"State\", \"HadDepressiveDisorder\").count()\n",
        "\n",
        "# Step 2: Compute total counts per state\n",
        "states_total = states_group.groupBy(\"State\").agg(_sum(\"count\").alias(\"total\"))\n",
        "\n",
        "# Step 3: Join and calculate percentages within each state\n",
        "states_percent = states_group.join(states_total, on=\"State\") \\\n",
        "    .withColumn(\"percentage\", round((col(\"count\") / col(\"total\")) * 100, 2)) \\\n",
        "    .select(\"State\", \"HadDepressiveDisorder\", \"percentage\")\n",
        "\n",
        "# Step 4: Pivot so each state is a row and columns = Yes/No\n",
        "pivoted = states_percent.groupBy(\"State\").pivot(\"HadDepressiveDisorder\").agg(_sum(\"percentage\")).fillna(0)\n",
        "\n",
        "# Step 5: Add total column to validate row-wise 100%\n",
        "final_result = pivoted\n",
        "\n",
        "# Step 6: Show results sorted by % of 'Yes'\n",
        "final_result.orderBy(col(\"Yes\").desc()).show()\n"
      ],
      "metadata": {
        "colab": {
          "base_uri": "https://localhost:8080/"
        },
        "id": "pHDTgj1W6R2Q",
        "outputId": "61566a96-92e3-4757-f528-ec79ab0e8944"
      },
      "execution_count": 32,
      "outputs": [
        {
          "output_type": "stream",
          "name": "stdout",
          "text": [
            "+--------------+-----+-----+\n",
            "|         State|   No|  Yes|\n",
            "+--------------+-----+-----+\n",
            "|     Tennessee|72.77|27.23|\n",
            "| West Virginia|73.71|26.29|\n",
            "|      Oklahoma|75.01|24.99|\n",
            "|      Kentucky|75.34|24.66|\n",
            "|      Arkansas|75.41|24.59|\n",
            "|        Oregon|75.47|24.53|\n",
            "|    Washington|76.02|23.98|\n",
            "|     Louisiana|76.11|23.89|\n",
            "|          Ohio|76.35|23.65|\n",
            "|     Minnesota|76.47|23.53|\n",
            "|       Vermont|76.64|23.36|\n",
            "|          Utah|76.74|23.26|\n",
            "|North Carolina|77.34|22.66|\n",
            "|         Maine|78.03|21.97|\n",
            "|      Colorado| 78.1| 21.9|\n",
            "| Massachusetts|78.17|21.83|\n",
            "|      Michigan|78.36|21.64|\n",
            "|  Rhode Island|78.37|21.63|\n",
            "|   Connecticut|78.53|21.47|\n",
            "|       Indiana|78.66|21.34|\n",
            "+--------------+-----+-----+\n",
            "only showing top 20 rows\n",
            "\n"
          ]
        }
      ]
    },
    {
      "cell_type": "code",
      "source": [
        "# Step 1: Count how many people in each health category per state\n",
        "health_group = df.groupBy(\"State\", \"GeneralHealth\").count()\n",
        "\n",
        "# Step 2: Total people per state\n",
        "state_totals = health_group.groupBy(\"State\").agg(_sum(\"count\").alias(\"total\"))\n",
        "\n",
        "# Step 3: Calculate % per health category within each state\n",
        "health_percent = health_group.join(state_totals, on=\"State\") \\\n",
        "    .withColumn(\"percentage\", round((col(\"count\") / col(\"total\")) * 100, 2)) \\\n",
        "    .select(\"State\", \"GeneralHealth\", \"percentage\")\n",
        "\n",
        "# Step 4: Pivot to make states rows and health levels columns\n",
        "pivoted_health = health_percent.groupBy(\"State\") \\\n",
        "    .pivot(\"GeneralHealth\", [\"Excellent\", \"Very good\", \"Good\", \"Fair\", \"Poor\"]) \\\n",
        "    .agg(_sum(\"percentage\")) \\\n",
        "    .fillna(0)\n",
        "\n",
        "# Step 5: Add row-wise total to verify percentages\n",
        "final_health_table = pivoted_health.withColumn(\n",
        "    \"Total\", round(sum(col(c) for c in pivoted_health.columns if c != \"State\"), 2)\n",
        ")\n",
        "\n",
        "# Step 6: Sort by % Excellent if desired\n",
        "final_health_table.orderBy(col(\"Excellent\").desc()).show()\n"
      ],
      "metadata": {
        "colab": {
          "base_uri": "https://localhost:8080/"
        },
        "id": "UUdiJUa3BXz7",
        "outputId": "7fb9d6a1-ae5a-4251-a10f-c3a35868ff6e"
      },
      "execution_count": 33,
      "outputs": [
        {
          "output_type": "stream",
          "name": "stdout",
          "text": [
            "+--------------------+---------+---------+-----+-----+----+------+\n",
            "|               State|Excellent|Very good| Good| Fair|Poor| Total|\n",
            "+--------------------+---------+---------+-----+-----+----+------+\n",
            "|District of Columbia|    24.29|    37.16|27.01| 9.45|2.09| 100.0|\n",
            "|       Massachusetts|    21.34|    37.77|28.47|10.14|2.29|100.01|\n",
            "|          New Jersey|    20.39|    37.38|28.46|10.86| 2.9| 99.99|\n",
            "|         Connecticut|    20.36|    37.62|28.85| 9.93|3.23| 99.99|\n",
            "|             Vermont|    20.29|    40.91|27.47| 8.46|2.87| 100.0|\n",
            "|            Colorado|    20.22|    38.38|28.98| 9.87|2.56|100.01|\n",
            "|                Utah|    20.17|    35.86| 30.3| 10.4|3.26| 99.99|\n",
            "|        Rhode Island|    19.51|    35.48|29.95|12.11|2.96|100.01|\n",
            "|          California|    19.47|    34.52|29.98|12.26|3.77| 100.0|\n",
            "|      North Carolina|    19.44|    35.87|28.54|12.15| 4.0| 100.0|\n",
            "|         Puerto Rico|    19.36|     16.1|34.55|26.19|3.79| 99.99|\n",
            "|              Hawaii|    18.71|    32.18|34.02|11.49|3.59| 99.99|\n",
            "|               Idaho|    18.63|    37.11|29.96|10.03|4.27| 100.0|\n",
            "|            New York|    18.48|    35.49|31.22|11.78|3.03| 100.0|\n",
            "|       New Hampshire|    18.05|    40.47|27.77|10.49|3.22| 100.0|\n",
            "|               Maine|    17.84|     39.4|28.47|10.91|3.38| 100.0|\n",
            "|             Wyoming|    17.76|    37.76|30.46|11.04|2.99|100.01|\n",
            "|              Alaska|    17.63|    36.44|31.48|10.39|4.06| 100.0|\n",
            "|             Montana|    17.61|    36.09|29.83|12.71|3.75| 99.99|\n",
            "|        South Dakota|    17.55|    35.85|31.31| 11.6| 3.7|100.01|\n",
            "+--------------------+---------+---------+-----+-----+----+------+\n",
            "only showing top 20 rows\n",
            "\n"
          ]
        }
      ]
    }
  ]
}